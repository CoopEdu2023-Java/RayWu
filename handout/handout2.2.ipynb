{
 "cells": [
  {
   "cell_type": "markdown",
   "metadata": {},
   "source": [
    "# *Task1*\n",
    "*Implement following classes according to the requirements:*\n",
    "- ***Teacher**: Teachers can teach students.*\n",
    "- ***Staff**: Staff can work and get paid.*\n",
    "- ***Principal**: Principal can make the school better.*"
   ]
  },
  {
   "cell_type": "code",
   "execution_count": null,
   "metadata": {},
   "outputs": [],
   "source": [
    "class Teacher {\n",
    "    public void teach{}\n",
    "    \n",
    "}\n",
    "class Staff {\n",
    "    public void work{}\n",
    "    public void getPaid{}\n",
    "}\n",
    "class Principle {\n",
    "    public void  makeSchoolBetter {\n",
    "        \n",
    "    }\n",
    "}"
   ]
  },
  {
   "cell_type": "markdown",
   "metadata": {},
   "source": [
    "# 1. Abstract Class"
   ]
  },
  {
   "cell_type": "markdown",
   "metadata": {},
   "source": [
    "##### 1.1 Define an abstract class with a abstract method."
   ]
  },
  {
   "cell_type": "code",
   "execution_count": 32,
   "metadata": {},
   "outputs": [],
   "source": [
    "abstract class A {\n",
    "    abstract void B();\n",
    "}"
   ]
  },
  {
   "cell_type": "markdown",
   "metadata": {},
   "source": [
    "##### 1.2 Write an inherited class."
   ]
  },
  {
   "cell_type": "code",
   "execution_count": 36,
   "metadata": {},
   "outputs": [],
   "source": [
    "class C extends A  {\n",
    "    @Override\n",
    "    void B() {\n",
    "        System.out.println(\"a\");\n",
    "    }\n",
    "}"
   ]
  },
  {
   "cell_type": "markdown",
   "metadata": {},
   "source": [
    "##### 1.3 Design the following classes with abstract class.\n",
    "1. Frog:\n",
    "    - name, age\n",
    "    - eat bugs, drink\n",
    "2. Dog:\n",
    "    - name, age\n",
    "    - eat bones, drink\n",
    "3. Sheep:\n",
    "    - name, age\n",
    "    - eat grass, drink"
   ]
  },
  {
   "cell_type": "code",
   "execution_count": 10,
   "metadata": {},
   "outputs": [],
   "source": [
    "abstract class Animal {\n",
    "    int age;\n",
    "    String name;\n",
    "    public Animal(String name, int age) {\n",
    "        this.name = name;\n",
    "        this.age = age;\n",
    "    }\n",
    "    abstract void eat();\n",
    "    public void drink() {\n",
    "        \n",
    "    };\n",
    "}"
   ]
  },
  {
   "cell_type": "markdown",
   "metadata": {},
   "source": [
    "# *Task2*\n",
    "*Rewrite task1 using inherited class of an abstract class.*"
   ]
  },
  {
   "cell_type": "code",
   "execution_count": null,
   "metadata": {},
   "outputs": [],
   "source": []
  },
  {
   "cell_type": "markdown",
   "metadata": {},
   "source": [
    "# 2. Interface"
   ]
  },
  {
   "cell_type": "markdown",
   "metadata": {},
   "source": [
    "##### 2.1 Define an interface with a abstract method."
   ]
  },
  {
   "cell_type": "code",
   "execution_count": 11,
   "metadata": {},
   "outputs": [],
   "source": [
    "interface work {\n",
    "    public abstract void test();\n",
    "}"
   ]
  },
  {
   "cell_type": "markdown",
   "metadata": {},
   "source": [
    "##### 2.2 Write an implementation class."
   ]
  },
  {
   "cell_type": "code",
   "execution_count": 22,
   "metadata": {},
   "outputs": [],
   "source": [
    "class Teach implements work {\n",
    "    @Override \n",
    "    public void test() {}\n",
    "}\n",
    "    "
   ]
  },
  {
   "cell_type": "markdown",
   "metadata": {},
   "source": [
    "##### 2.3 Design the following classes with interface.\n",
    "1. Frog:\n",
    "    - name, age\n",
    "    - eat bugs, breaststroke\n",
    "2. Dog:\n",
    "    - name, age\n",
    "    - eat bones, dog paddle\n",
    "3. Rabbit:\n",
    "    - name, age\n",
    "    - eat carrots"
   ]
  },
  {
   "cell_type": "code",
   "execution_count": 28,
   "metadata": {},
   "outputs": [],
   "source": [
    "interface eat {\n",
    "    public abstract void eat();\n",
    "}\n",
    "interface swim {\n",
    "    public abstract void swim();\n",
    "}\n"
   ]
  },
  {
   "cell_type": "markdown",
   "metadata": {},
   "source": [
    "# *Task3*\n",
    "*Rewrite task2 using implementation class of the interface.*"
   ]
  },
  {
   "cell_type": "code",
   "execution_count": null,
   "metadata": {},
   "outputs": [],
   "source": [
    "interface Work {\n",
    "    void work();\n",
    "}\n",
    "class Teacher implements Work {\n",
    "    @Override\n",
    "    public void work() {\n",
    "        System.out.println(\"work\")\n",
    "    }\n",
    "}"
   ]
  },
  {
   "cell_type": "markdown",
   "metadata": {},
   "source": [
    "# Inheritance, Abstract Class and Interface."
   ]
  },
  {
   "cell_type": "markdown",
   "metadata": {},
   "source": [
    "Implement classes as requirements using inheritance, abstract class and interface.\n",
    "- **Table tennis player**:\n",
    "    - name, age\n",
    "    - play table tennis, speak english\n",
    "- **Basketball player**:\n",
    "    - name, age\n",
    "    - play basketball\n",
    "- **Table tennis coach**:\n",
    "    - name, age\n",
    "    - coach table tennis, speak english\n",
    "- **Basketball coach**:\n",
    "    - name, age\n",
    "    - coach basketball"
   ]
  },
  {
   "cell_type": "code",
   "execution_count": null,
   "metadata": {},
   "outputs": [],
   "source": [
    "interface Coach {\n",
    "    void Coach();\n",
    "}\n",
    "interface Play {\n",
    "    void Play();\n",
    "}\n"
   ]
  }
 ],
 "metadata": {
  "kernelspec": {
   "display_name": "Java",
   "language": "java",
   "name": "java"
  },
  "language_info": {
   "codemirror_mode": "java",
   "file_extension": ".jshell",
   "mimetype": "text/x-java-source",
   "name": "Java",
   "pygments_lexer": "java",
   "version": "21.0.4+8-LTS-274"
  }
 },
 "nbformat": 4,
 "nbformat_minor": 4
}
