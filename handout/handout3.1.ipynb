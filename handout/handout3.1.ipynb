{
 "cells": [
  {
   "cell_type": "markdown",
   "metadata": {},
   "source": [
    "# 1. Array List"
   ]
  },
  {
   "cell_type": "markdown",
   "metadata": {},
   "source": [
    "##### 1.1 Structure"
   ]
  },
  {
   "cell_type": "code",
   "execution_count": 3,
   "metadata": {},
   "outputs": [],
   "source": [
    "public class ArrayListDemo<T> {\n",
    "    private T[] data;\n",
    "    private int size;\n",
    "\n",
    "    public ArrayListDemo(int capacity) {\n",
    "        this.data = (T[]) new Object[capacity];\n",
    "        this.size = 0;\n",
    "    }\n",
    "}"
   ]
  },
  {
   "cell_type": "markdown",
   "metadata": {},
   "source": [
    "##### 1.2 Insert"
   ]
  },
  {
   "cell_type": "code",
   "execution_count": 4,
   "metadata": {},
   "outputs": [
    {
     "ename": "CompilationException",
     "evalue": "",
     "output_type": "error",
     "traceback": [
      "\u001b[1m\u001b[30m|   \u001b[1m\u001b[30mpublic void insert(int index, \u001b[0m\u001b[1m\u001b[30m\u001b[41mT\u001b[0m\u001b[1m\u001b[30m value) {\u001b[0m",
      "\u001b[1m\u001b[31m找不到符号\u001b[0m",
      "\u001b[1m\u001b[31m  符号:   类 T\u001b[0m",
      "\u001b[1m\u001b[31m  位置: 类 \u001b[0m",
      "",
      "\u001b[1m\u001b[30m|   \u001b[1m\u001b[30m    if (index < 0 || index >= \u001b[0m\u001b[1m\u001b[30m\u001b[41mthis\u001b[0m\u001b[1m\u001b[30m.size) {\u001b[0m",
      "\u001b[1m\u001b[31m无法从静态上下文中引用非静态 变量 this\u001b[0m",
      "",
      "\u001b[1m\u001b[30m|   \u001b[1m\u001b[30m    if (index < 0 || index >= \u001b[0m\u001b[1m\u001b[30m\u001b[41mthis.size\u001b[0m\u001b[1m\u001b[30m) {\u001b[0m",
      "\u001b[1m\u001b[31m找不到符号\u001b[0m",
      "\u001b[1m\u001b[31m  符号: 变量 size\u001b[0m",
      "",
      "\u001b[1m\u001b[30m|   \u001b[1m\u001b[30m    for (int i = \u001b[0m\u001b[1m\u001b[30m\u001b[41mthis\u001b[0m\u001b[1m\u001b[30m.size; i > index; i--) {\u001b[0m",
      "\u001b[1m\u001b[31m无法从静态上下文中引用非静态 变量 this\u001b[0m",
      "",
      "\u001b[1m\u001b[30m|   \u001b[1m\u001b[30m    for (int i = \u001b[0m\u001b[1m\u001b[30m\u001b[41mthis.size\u001b[0m\u001b[1m\u001b[30m; i > index; i--) {\u001b[0m",
      "\u001b[1m\u001b[31m找不到符号\u001b[0m",
      "\u001b[1m\u001b[31m  符号: 变量 size\u001b[0m",
      "",
      "\u001b[1m\u001b[30m|   \u001b[1m\u001b[30m        \u001b[0m\u001b[1m\u001b[30m\u001b[41mthis\u001b[0m\u001b[1m\u001b[30m.data[i] = this.data[i - 1];\u001b[0m",
      "\u001b[1m\u001b[31m无法从静态上下文中引用非静态 变量 this\u001b[0m",
      "",
      "\u001b[1m\u001b[30m|   \u001b[1m\u001b[30m        \u001b[0m\u001b[1m\u001b[30m\u001b[41mthis.data\u001b[0m\u001b[1m\u001b[30m[i] = this.data[i - 1];\u001b[0m",
      "\u001b[1m\u001b[31m找不到符号\u001b[0m",
      "\u001b[1m\u001b[31m  符号: 变量 data\u001b[0m",
      "",
      "\u001b[1m\u001b[30m|   \u001b[1m\u001b[30m        this.data[i] = \u001b[0m\u001b[1m\u001b[30m\u001b[41mthis\u001b[0m\u001b[1m\u001b[30m.data[i - 1];\u001b[0m",
      "\u001b[1m\u001b[31m无法从静态上下文中引用非静态 变量 this\u001b[0m",
      "",
      "\u001b[1m\u001b[30m|   \u001b[1m\u001b[30m        this.data[i] = \u001b[0m\u001b[1m\u001b[30m\u001b[41mthis.data\u001b[0m\u001b[1m\u001b[30m[i - 1];\u001b[0m",
      "\u001b[1m\u001b[31m找不到符号\u001b[0m",
      "\u001b[1m\u001b[31m  符号: 变量 data\u001b[0m",
      "",
      "\u001b[1m\u001b[30m|   \u001b[1m\u001b[30m    \u001b[0m\u001b[1m\u001b[30m\u001b[41mthis\u001b[0m\u001b[1m\u001b[30m.data[index] = value;\u001b[0m",
      "\u001b[1m\u001b[31m无法从静态上下文中引用非静态 变量 this\u001b[0m",
      "",
      "\u001b[1m\u001b[30m|   \u001b[1m\u001b[30m    \u001b[0m\u001b[1m\u001b[30m\u001b[41mthis.data\u001b[0m\u001b[1m\u001b[30m[index] = value;\u001b[0m",
      "\u001b[1m\u001b[31m找不到符号\u001b[0m",
      "\u001b[1m\u001b[31m  符号: 变量 data\u001b[0m",
      "",
      "\u001b[1m\u001b[30m|   \u001b[1m\u001b[30m    \u001b[0m\u001b[1m\u001b[30m\u001b[41mthis\u001b[0m\u001b[1m\u001b[30m.size++;\u001b[0m",
      "\u001b[1m\u001b[31m无法从静态上下文中引用非静态 变量 this\u001b[0m",
      "",
      "\u001b[1m\u001b[30m|   \u001b[1m\u001b[30m    \u001b[0m\u001b[1m\u001b[30m\u001b[41mthis.size\u001b[0m\u001b[1m\u001b[30m++;\u001b[0m",
      "\u001b[1m\u001b[31m找不到符号\u001b[0m",
      "\u001b[1m\u001b[31m  符号: 变量 size\u001b[0m",
      ""
     ]
    }
   ],
   "source": [
    "public void insert(int index, T value) {\n",
    "    if (index < 0 || index >= this.size) {\n",
    "        throw new IndexOutOfBoundsException();\n",
    "    }\n",
    "    for (int i = this.size; i > index; i--) {\n",
    "        this.data[i] = this.data[i - 1];\n",
    "    }\n",
    "    this.data[index] = value;\n",
    "    this.size++;\n",
    "}"
   ]
  },
  {
   "cell_type": "markdown",
   "metadata": {},
   "source": [
    "##### 1.3 Delete"
   ]
  },
  {
   "cell_type": "code",
   "execution_count": 5,
   "metadata": {},
   "outputs": [
    {
     "ename": "CompilationException",
     "evalue": "",
     "output_type": "error",
     "traceback": [
      "\u001b[1m\u001b[30m|   \u001b[1m\u001b[30mpublic \u001b[0m\u001b[1m\u001b[30m\u001b[41mT\u001b[0m\u001b[1m\u001b[30m delete(int index) {\u001b[0m",
      "\u001b[1m\u001b[31m找不到符号\u001b[0m",
      "\u001b[1m\u001b[31m  符号:   类 T\u001b[0m",
      "\u001b[1m\u001b[31m  位置: 类 \u001b[0m",
      "",
      "\u001b[1m\u001b[30m|   \u001b[1m\u001b[30m    if (index < 0 || index >= \u001b[0m\u001b[1m\u001b[30m\u001b[41mthis\u001b[0m\u001b[1m\u001b[30m.size) {\u001b[0m",
      "\u001b[1m\u001b[31m无法从静态上下文中引用非静态 变量 this\u001b[0m",
      "",
      "\u001b[1m\u001b[30m|   \u001b[1m\u001b[30m    if (index < 0 || index >= \u001b[0m\u001b[1m\u001b[30m\u001b[41mthis.size\u001b[0m\u001b[1m\u001b[30m) {\u001b[0m",
      "\u001b[1m\u001b[31m找不到符号\u001b[0m",
      "\u001b[1m\u001b[31m  符号: 变量 size\u001b[0m",
      "",
      "\u001b[1m\u001b[30m|   \u001b[1m\u001b[30m    \u001b[0m\u001b[1m\u001b[30m\u001b[41mT\u001b[0m\u001b[1m\u001b[30m deletedValue = this.data[index];\u001b[0m",
      "\u001b[1m\u001b[31m找不到符号\u001b[0m",
      "\u001b[1m\u001b[31m  符号:   类 T\u001b[0m",
      "\u001b[1m\u001b[31m  位置: 类 \u001b[0m",
      "",
      "\u001b[1m\u001b[30m|   \u001b[1m\u001b[30m    T deletedValue = \u001b[0m\u001b[1m\u001b[30m\u001b[41mthis\u001b[0m\u001b[1m\u001b[30m.data[index];\u001b[0m",
      "\u001b[1m\u001b[31m无法从静态上下文中引用非静态 变量 this\u001b[0m",
      "",
      "\u001b[1m\u001b[30m|   \u001b[1m\u001b[30m    T deletedValue = \u001b[0m\u001b[1m\u001b[30m\u001b[41mthis.data\u001b[0m\u001b[1m\u001b[30m[index];\u001b[0m",
      "\u001b[1m\u001b[31m找不到符号\u001b[0m",
      "\u001b[1m\u001b[31m  符号: 变量 data\u001b[0m",
      "",
      "\u001b[1m\u001b[30m|   \u001b[1m\u001b[30m    for (int i = index; i < \u001b[0m\u001b[1m\u001b[30m\u001b[41mthis\u001b[0m\u001b[1m\u001b[30m.size - 1; i++) {\u001b[0m",
      "\u001b[1m\u001b[31m无法从静态上下文中引用非静态 变量 this\u001b[0m",
      "",
      "\u001b[1m\u001b[30m|   \u001b[1m\u001b[30m    for (int i = index; i < \u001b[0m\u001b[1m\u001b[30m\u001b[41mthis.size\u001b[0m\u001b[1m\u001b[30m - 1; i++) {\u001b[0m",
      "\u001b[1m\u001b[31m找不到符号\u001b[0m",
      "\u001b[1m\u001b[31m  符号: 变量 size\u001b[0m",
      "",
      "\u001b[1m\u001b[30m|   \u001b[1m\u001b[30m        \u001b[0m\u001b[1m\u001b[30m\u001b[41mthis\u001b[0m\u001b[1m\u001b[30m.data[i] = this.data[i + 1];\u001b[0m",
      "\u001b[1m\u001b[31m无法从静态上下文中引用非静态 变量 this\u001b[0m",
      "",
      "\u001b[1m\u001b[30m|   \u001b[1m\u001b[30m        \u001b[0m\u001b[1m\u001b[30m\u001b[41mthis.data\u001b[0m\u001b[1m\u001b[30m[i] = this.data[i + 1];\u001b[0m",
      "\u001b[1m\u001b[31m找不到符号\u001b[0m",
      "\u001b[1m\u001b[31m  符号: 变量 data\u001b[0m",
      "",
      "\u001b[1m\u001b[30m|   \u001b[1m\u001b[30m        this.data[i] = \u001b[0m\u001b[1m\u001b[30m\u001b[41mthis\u001b[0m\u001b[1m\u001b[30m.data[i + 1];\u001b[0m",
      "\u001b[1m\u001b[31m无法从静态上下文中引用非静态 变量 this\u001b[0m",
      "",
      "\u001b[1m\u001b[30m|   \u001b[1m\u001b[30m        this.data[i] = \u001b[0m\u001b[1m\u001b[30m\u001b[41mthis.data\u001b[0m\u001b[1m\u001b[30m[i + 1];\u001b[0m",
      "\u001b[1m\u001b[31m找不到符号\u001b[0m",
      "\u001b[1m\u001b[31m  符号: 变量 data\u001b[0m",
      "",
      "\u001b[1m\u001b[30m|   \u001b[1m\u001b[30m    \u001b[0m\u001b[1m\u001b[30m\u001b[41mthis\u001b[0m\u001b[1m\u001b[30m.size--;\u001b[0m",
      "\u001b[1m\u001b[31m无法从静态上下文中引用非静态 变量 this\u001b[0m",
      "",
      "\u001b[1m\u001b[30m|   \u001b[1m\u001b[30m    \u001b[0m\u001b[1m\u001b[30m\u001b[41mthis.size\u001b[0m\u001b[1m\u001b[30m--;\u001b[0m",
      "\u001b[1m\u001b[31m找不到符号\u001b[0m",
      "\u001b[1m\u001b[31m  符号: 变量 size\u001b[0m",
      ""
     ]
    }
   ],
   "source": [
    "public T delete(int index) {\n",
    "    if (index < 0 || index >= this.size) {\n",
    "        throw new IndexOutOfBoundsException();\n",
    "    }\n",
    "    T deletedValue = this.data[index];\n",
    "    for (int i = index; i < this.size - 1; i++) {\n",
    "        this.data[i] = this.data[i + 1];\n",
    "    }\n",
    "    this.size--;\n",
    "    return deletedValue;\n",
    "}"
   ]
  },
  {
   "cell_type": "markdown",
   "metadata": {},
   "source": [
    "##### 1.4 Get"
   ]
  },
  {
   "cell_type": "code",
   "execution_count": 6,
   "metadata": {},
   "outputs": [
    {
     "ename": "CompilationException",
     "evalue": "",
     "output_type": "error",
     "traceback": [
      "\u001b[1m\u001b[30m|   \u001b[1m\u001b[30mpublic \u001b[0m\u001b[1m\u001b[30m\u001b[41mT\u001b[0m\u001b[1m\u001b[30m get(int index) {\u001b[0m",
      "\u001b[1m\u001b[31m找不到符号\u001b[0m",
      "\u001b[1m\u001b[31m  符号:   类 T\u001b[0m",
      "\u001b[1m\u001b[31m  位置: 类 \u001b[0m",
      "",
      "\u001b[1m\u001b[30m|   \u001b[1m\u001b[30m    if (index < 0 || index >= \u001b[0m\u001b[1m\u001b[30m\u001b[41mthis\u001b[0m\u001b[1m\u001b[30m.size) {\u001b[0m",
      "\u001b[1m\u001b[31m无法从静态上下文中引用非静态 变量 this\u001b[0m",
      "",
      "\u001b[1m\u001b[30m|   \u001b[1m\u001b[30m    if (index < 0 || index >= \u001b[0m\u001b[1m\u001b[30m\u001b[41mthis.size\u001b[0m\u001b[1m\u001b[30m) {\u001b[0m",
      "\u001b[1m\u001b[31m找不到符号\u001b[0m",
      "\u001b[1m\u001b[31m  符号: 变量 size\u001b[0m",
      "",
      "\u001b[1m\u001b[30m|   \u001b[1m\u001b[30m    return \u001b[0m\u001b[1m\u001b[30m\u001b[41mthis\u001b[0m\u001b[1m\u001b[30m.data[index];\u001b[0m",
      "\u001b[1m\u001b[31m无法从静态上下文中引用非静态 变量 this\u001b[0m",
      "",
      "\u001b[1m\u001b[30m|   \u001b[1m\u001b[30m    return \u001b[0m\u001b[1m\u001b[30m\u001b[41mthis.data\u001b[0m\u001b[1m\u001b[30m[index];\u001b[0m",
      "\u001b[1m\u001b[31m找不到符号\u001b[0m",
      "\u001b[1m\u001b[31m  符号: 变量 data\u001b[0m",
      ""
     ]
    }
   ],
   "source": [
    "public T get(int index) {\n",
    "    if (index < 0 || index >= this.size) {\n",
    "        throw new IndexOutOfBoundsException();\n",
    "    }\n",
    "    return this.data[index];\n",
    "}"
   ]
  },
  {
   "cell_type": "markdown",
   "metadata": {},
   "source": [
    "##### 1.5 Set"
   ]
  },
  {
   "cell_type": "code",
   "execution_count": 7,
   "metadata": {},
   "outputs": [
    {
     "ename": "CompilationException",
     "evalue": "",
     "output_type": "error",
     "traceback": [
      "\u001b[1m\u001b[30m|   \u001b[1m\u001b[30mpublic void set(int index, \u001b[0m\u001b[1m\u001b[30m\u001b[41mT\u001b[0m\u001b[1m\u001b[30m value) {\u001b[0m",
      "\u001b[1m\u001b[31m找不到符号\u001b[0m",
      "\u001b[1m\u001b[31m  符号:   类 T\u001b[0m",
      "\u001b[1m\u001b[31m  位置: 类 \u001b[0m",
      "",
      "\u001b[1m\u001b[30m|   \u001b[1m\u001b[30m    if (index < 0 || index >= \u001b[0m\u001b[1m\u001b[30m\u001b[41mthis\u001b[0m\u001b[1m\u001b[30m.size) {\u001b[0m",
      "\u001b[1m\u001b[31m无法从静态上下文中引用非静态 变量 this\u001b[0m",
      "",
      "\u001b[1m\u001b[30m|   \u001b[1m\u001b[30m    if (index < 0 || index >= \u001b[0m\u001b[1m\u001b[30m\u001b[41mthis.size\u001b[0m\u001b[1m\u001b[30m) {\u001b[0m",
      "\u001b[1m\u001b[31m找不到符号\u001b[0m",
      "\u001b[1m\u001b[31m  符号: 变量 size\u001b[0m",
      "",
      "\u001b[1m\u001b[30m|   \u001b[1m\u001b[30m    \u001b[0m\u001b[1m\u001b[30m\u001b[41mthis\u001b[0m\u001b[1m\u001b[30m.data[index] = value;\u001b[0m",
      "\u001b[1m\u001b[31m无法从静态上下文中引用非静态 变量 this\u001b[0m",
      "",
      "\u001b[1m\u001b[30m|   \u001b[1m\u001b[30m    \u001b[0m\u001b[1m\u001b[30m\u001b[41mthis.data\u001b[0m\u001b[1m\u001b[30m[index] = value;\u001b[0m",
      "\u001b[1m\u001b[31m找不到符号\u001b[0m",
      "\u001b[1m\u001b[31m  符号: 变量 data\u001b[0m",
      ""
     ]
    }
   ],
   "source": [
    "public void set(int index, T value) {\n",
    "    if (index < 0 || index >= this.size) {\n",
    "        throw new IndexOutOfBoundsException();\n",
    "    }\n",
    "    this.data[index] = value;\n",
    "}"
   ]
  },
  {
   "cell_type": "markdown",
   "metadata": {},
   "source": [
    "# 2. Linked List"
   ]
  },
  {
   "cell_type": "markdown",
   "metadata": {},
   "source": [
    "##### 2.1 Structure"
   ]
  },
  {
   "cell_type": "code",
   "execution_count": 9,
   "metadata": {},
   "outputs": [],
   "source": [
    "class Node<T> {\n",
    "    T data;\n",
    "    Node<T> next;\n",
    "\n",
    "    Node(T data) {\n",
    "        this.data = data;\n",
    "        this.next = null;\n",
    "    }\n",
    "}\n",
    "\n",
    "class LinkedListDemo<T> {\n",
    "    private Node<T> head;\n",
    "    private int size;\n",
    "\n",
    "    public LinkedListDemo() {\n",
    "        this.head = null;\n",
    "        this.size = 0;\n",
    "    }\n",
    "}"
   ]
  },
  {
   "cell_type": "markdown",
   "metadata": {},
   "source": [
    "##### 2.2 Insert"
   ]
  },
  {
   "cell_type": "code",
   "execution_count": null,
   "metadata": {},
   "outputs": [],
   "source": [
    "public void insert(int index, T value) {\n",
    "    if (index < 0 || index >= size) {\n",
    "        throw new IndexOutOfBoundsException();\n",
    "    }\n",
    "    Node<T> newNode = new Node<>(value);\n",
    "    if (index == 0) {\n",
    "        newNode.next = head;\n",
    "        head = newNode;\n",
    "    } else {\n",
    "        Node<T> prev = getNode(index - 1);\n",
    "        newNode.next = prev.next;\n",
    "        prev.next = newNode;\n",
    "    }\n",
    "    size++;\n",
    "}"
   ]
  },
  {
   "cell_type": "markdown",
   "metadata": {},
   "source": [
    "##### 2.3 Delete"
   ]
  },
  {
   "cell_type": "code",
   "execution_count": null,
   "metadata": {},
   "outputs": [],
   "source": [
    "public T delete(int index) {\n",
    "    if (index < 0 || index >= size) {\n",
    "        throw new IndexOutOfBoundsException();\n",
    "    }\n",
    "    T deletedValue;\n",
    "    if (index == 0) {\n",
    "        deletedValue = head.data;\n",
    "        head = head.next;\n",
    "    } else {\n",
    "        Node<T> prev = getNode(index - 1);\n",
    "        deletedValue = prev.next.data;\n",
    "        prev.next = prev.next.next;\n",
    "    }\n",
    "    size--;\n",
    "    return deletedValue;\n",
    "}"
   ]
  },
  {
   "cell_type": "markdown",
   "metadata": {},
   "source": [
    "##### 2.4 Get"
   ]
  },
  {
   "cell_type": "code",
   "execution_count": null,
   "metadata": {},
   "outputs": [],
   "source": [
    "public T get(int index) {\n",
    "    if (index < 0 || index >= size) {\n",
    "        throw new IndexOutOfBoundsException();\n",
    "    }\n",
    "    Node<T> current = getNode(index);\n",
    "    return current.data;\n",
    "}"
   ]
  },
  {
   "cell_type": "markdown",
   "metadata": {},
   "source": [
    "##### 2.5 Set"
   ]
  },
  {
   "cell_type": "code",
   "execution_count": null,
   "metadata": {},
   "outputs": [],
   "source": [
    "public void set(int index, T value) {\n",
    "    if (index < 0 || index >= size) {\n",
    "        throw new IndexOutOfBoundsException();\n",
    "    }\n",
    "    Node<T> current = getNode(index);\n",
    "    current.data = value;\n",
    "}"
   ]
  },
  {
   "cell_type": "code",
   "execution_count": null,
   "metadata": {},
   "outputs": [],
   "source": []
  },
  {
   "cell_type": "markdown",
   "metadata": {},
   "source": [
    "# 3. Stack"
   ]
  },
  {
   "cell_type": "markdown",
   "metadata": {},
   "source": [
    "##### 3.1 Structure"
   ]
  },
  {
   "cell_type": "code",
   "execution_count": null,
   "metadata": {},
   "outputs": [],
   "source": [
    "class StackDemo<T> {\n",
    "    private T[] data;\n",
    "    private int top;\n",
    "\n",
    "    public StackDemo(int capacity) {\n",
    "        this.data = (T[]) new Object[capacity];\n",
    "        this.top = -1;\n",
    "    }\n",
    "}"
   ]
  },
  {
   "cell_type": "markdown",
   "metadata": {},
   "source": [
    "##### 3.2 Push"
   ]
  },
  {
   "cell_type": "code",
   "execution_count": null,
   "metadata": {},
   "outputs": [],
   "source": [
    "public void push(T value) {\n",
    "    this.data[++this.top] = value;\n",
    "}"
   ]
  },
  {
   "cell_type": "markdown",
   "metadata": {},
   "source": [
    "##### 3.3 Pop"
   ]
  },
  {
   "cell_type": "code",
   "execution_count": null,
   "metadata": {},
   "outputs": [],
   "source": [
    "public T pop() {\n",
    "    return this.data[this.top--];\n",
    "}"
   ]
  },
  {
   "cell_type": "markdown",
   "metadata": {},
   "source": [
    "##### 3.4 Peek"
   ]
  },
  {
   "cell_type": "code",
   "execution_count": null,
   "metadata": {},
   "outputs": [],
   "source": [
    "public T peek() {\n",
    "    return this.data[this.top];\n",
    "}"
   ]
  },
  {
   "cell_type": "markdown",
   "metadata": {},
   "source": [
    "# 4. Queue"
   ]
  },
  {
   "cell_type": "markdown",
   "metadata": {},
   "source": [
    "##### 4.1 Structure"
   ]
  },
  {
   "cell_type": "code",
   "execution_count": null,
   "metadata": {},
   "outputs": [],
   "source": [
    "class ArrayQueueDemo<T> {\n",
    "    private T[] data;\n",
    "    private int front;\n",
    "    private int rear;\n",
    "\n",
    "    public ArrayQueueDemo(int capacity) {\n",
    "        this.data = (T[]) new Object[capacity];\n",
    "        this.front = 0;\n",
    "        this.rear = 0;\n",
    "    }\n",
    "}"
   ]
  },
  {
   "cell_type": "markdown",
   "metadata": {},
   "source": [
    "##### 4.2 Enqueue"
   ]
  },
  {
   "cell_type": "code",
   "execution_count": null,
   "metadata": {},
   "outputs": [],
   "source": [
    "public void enqueue(T value) {\n",
    "    this.data[this.rear] = value;\n",
    "    this.rear = (this.rear + 1) % this.data.length;\n",
    "}"
   ]
  },
  {
   "cell_type": "markdown",
   "metadata": {},
   "source": [
    "##### 4.3 Dequeue"
   ]
  },
  {
   "cell_type": "code",
   "execution_count": null,
   "metadata": {},
   "outputs": [],
   "source": [
    "public T dequeue() {\n",
    "    this.front = (this.front + 1) % this.data.length;\n",
    "}"
   ]
  },
  {
   "cell_type": "markdown",
   "metadata": {},
   "source": [
    "##### 4.4 Peek"
   ]
  },
  {
   "cell_type": "code",
   "execution_count": null,
   "metadata": {},
   "outputs": [],
   "source": [
    "public T peek() {\n",
    "    return this.data[this.front];\n",
    "}"
   ]
  }
 ],
 "metadata": {
  "kernelspec": {
   "display_name": "Java",
   "language": "java",
   "name": "java"
  },
  "language_info": {
   "codemirror_mode": "java",
   "file_extension": ".jshell",
   "mimetype": "text/x-java-source",
   "name": "Java",
   "pygments_lexer": "java",
   "version": "21.0.4+8-LTS-274"
  }
 },
 "nbformat": 4,
 "nbformat_minor": 4
}
