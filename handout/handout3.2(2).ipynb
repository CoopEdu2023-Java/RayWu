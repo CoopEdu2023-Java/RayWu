{
 "cells": [
  {
   "cell_type": "markdown",
   "metadata": {},
   "source": [
    "# 1. Binary Tree"
   ]
  },
  {
   "cell_type": "markdown",
   "metadata": {},
   "source": [
    "##### 2.1 Structure"
   ]
  },
  {
   "cell_type": "code",
   "execution_count": null,
   "metadata": {},
   "outputs": [],
   "source": [
    "class TreeNode<T> {\n",
    "    T value;\n",
    "    TreeNode left;\n",
    "    TreeNode right;\n",
    "\n",
    "    public TreeNode(T x) {\n",
    "        this.value = x;\n",
    "        this.left = null;\n",
    "        this.right = null;\n",
    "    }\n",
    "}"
   ]
  },
  {
   "cell_type": "markdown",
   "metadata": {},
   "source": [
    "##### 2.2 Find"
   ]
  },
  {
   "cell_type": "code",
   "execution_count": null,
   "metadata": {},
   "outputs": [],
   "source": [
    "private void preorderTraversal(TreeNode root) {\n",
    "    if (root != null) {\n",
    "        System.out.println(root.value);\n",
    "        preorderTraversal(root.left);\n",
    "        preorderTraversal(root.right);\n",
    "    }\n",
    "}"
   ]
  },
  {
   "cell_type": "markdown",
   "metadata": {},
   "source": [
    "##### 2.3 Insert"
   ]
  },
  {
   "cell_type": "code",
   "execution_count": null,
   "metadata": {},
   "outputs": [],
   "source": []
  },
  {
   "cell_type": "markdown",
   "metadata": {},
   "source": [
    "##### 2.4 Remove"
   ]
  },
  {
   "cell_type": "code",
   "execution_count": null,
   "metadata": {},
   "outputs": [],
   "source": []
  },
  {
   "cell_type": "markdown",
   "metadata": {},
   "source": [
    "# 2. Binary Search Tree"
   ]
  },
  {
   "cell_type": "markdown",
   "metadata": {},
   "source": [
    "##### 2.1 Structure"
   ]
  },
  {
   "cell_type": "code",
   "execution_count": null,
   "metadata": {},
   "outputs": [],
   "source": [
    "class BSTNode<T> {\n",
    "    T value;\n",
    "    BSTNode<T> left;\n",
    "    BSTNode<T> right;\n",
    "\n",
    "    public BSTNode(T x) {\n",
    "        this.value = x;\n",
    "        this.left = null;\n",
    "        this.right = null;\n",
    "    }\n",
    "}"
   ]
  },
  {
   "cell_type": "markdown",
   "metadata": {},
   "source": [
    "##### 2.2 Find"
   ]
  },
  {
   "cell_type": "code",
   "execution_count": null,
   "metadata": {},
   "outputs": [],
   "source": [
    "private boolean find(BSTNode<T> root, T x) {\n",
    "    if (root == null) {\n",
    "        return false;\n",
    "    }\n",
    "    if (x == root.value) {\n",
    "        return true;\n",
    "    }\n",
    "    if (x < root.value) {\n",
    "        return find(root.left, x);\n",
    "    } else {\n",
    "        return find(root.right, x);\n",
    "    }\n",
    "}"
   ]
  },
  {
   "cell_type": "markdown",
   "metadata": {},
   "source": [
    "##### 2.3 Insert"
   ]
  },
  {
   "cell_type": "code",
   "execution_count": null,
   "metadata": {},
   "outputs": [],
   "source": [
    "private BSTNode<T> insert(BSTNode<T> node, T x) {\n",
    "    if (node == null) {\n",
    "        return new BSTNode<>(x);\n",
    "    }\n",
    "    if (x < node.value) {\n",
    "        node.left = insert(node.left, x);\n",
    "    } else {\n",
    "        node.right = insert(node.right, x);\n",
    "    }\n",
    "    return node;\n",
    "}"
   ]
  },
  {
   "cell_type": "markdown",
   "metadata": {},
   "source": [
    "##### 2.4 Remove"
   ]
  },
  {
   "cell_type": "code",
   "execution_count": null,
   "metadata": {},
   "outputs": [],
   "source": [
    "private BSTNode<T> delete(BSTNode<T> node, T x) {\n",
    "    if (node == null) {\n",
    "        return null;\n",
    "    }\n",
    "    if (x < node.value) {\n",
    "        node.left = delete(node.left, x);\n",
    "    } else if (x > node.value) {\n",
    "        node.right = delete(node.right, x);\n",
    "    } else {\n",
    "        if (node.left == null) {\n",
    "            return node.right;\n",
    "        } else if (node.right == null) {\n",
    "            return node.left;\n",
    "        }\n",
    "        node.value = findMin(node.right);\n",
    "        node.right = delete(node.right, node.value);\n",
    "    }\n",
    "    return node;\n",
    "}"
   ]
  },
  {
   "cell_type": "markdown",
   "metadata": {},
   "source": [
    "# 3. AVL Tree"
   ]
  },
  {
   "cell_type": "markdown",
   "metadata": {},
   "source": [
    "##### 1.1 Structure"
   ]
  },
  {
   "cell_type": "code",
   "execution_count": null,
   "metadata": {},
   "outputs": [],
   "source": []
  },
  {
   "cell_type": "markdown",
   "metadata": {},
   "source": [
    "##### 1.2 Preorder Traversal"
   ]
  },
  {
   "cell_type": "code",
   "execution_count": null,
   "metadata": {},
   "outputs": [],
   "source": []
  },
  {
   "cell_type": "markdown",
   "metadata": {},
   "source": [
    "##### 1.3 Inorder Traversal"
   ]
  },
  {
   "cell_type": "code",
   "execution_count": null,
   "metadata": {},
   "outputs": [],
   "source": []
  },
  {
   "cell_type": "markdown",
   "metadata": {},
   "source": [
    "##### 1.4 Postorder Traversal"
   ]
  },
  {
   "cell_type": "code",
   "execution_count": null,
   "metadata": {},
   "outputs": [],
   "source": []
  },
  {
   "cell_type": "markdown",
   "metadata": {},
   "source": [
    "##### 1.5 Level order Traversal"
   ]
  },
  {
   "cell_type": "code",
   "execution_count": null,
   "metadata": {},
   "outputs": [],
   "source": []
  },
  {
   "cell_type": "markdown",
   "metadata": {},
   "source": [
    "# 4. Heap"
   ]
  },
  {
   "cell_type": "markdown",
   "metadata": {},
   "source": [
    "##### 4.1 Structure"
   ]
  },
  {
   "cell_type": "code",
   "execution_count": null,
   "metadata": {},
   "outputs": [],
   "source": []
  },
  {
   "cell_type": "markdown",
   "metadata": {},
   "source": [
    "##### 4.2 Insert"
   ]
  },
  {
   "cell_type": "code",
   "execution_count": null,
   "metadata": {},
   "outputs": [],
   "source": []
  },
  {
   "cell_type": "markdown",
   "metadata": {},
   "source": [
    "##### 4.3 Delete"
   ]
  },
  {
   "cell_type": "code",
   "execution_count": null,
   "metadata": {},
   "outputs": [],
   "source": []
  }
 ],
 "metadata": {
  "kernelspec": {
   "display_name": "Java",
   "language": "java",
   "name": "java"
  },
  "language_info": {
   "codemirror_mode": "java",
   "file_extension": ".jshell",
   "mimetype": "text/x-java-source",
   "name": "Java",
   "pygments_lexer": "java",
   "version": "21.0.4+8-LTS-274"
  }
 },
 "nbformat": 4,
 "nbformat_minor": 4
}
