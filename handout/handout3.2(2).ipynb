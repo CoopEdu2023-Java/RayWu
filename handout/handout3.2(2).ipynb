{
 "cells": [
  {
   "cell_type": "markdown",
   "metadata": {},
   "source": [
    "# 1. Binary Tree"
   ]
  },
  {
   "cell_type": "markdown",
   "metadata": {},
   "source": [
    "##### 2.1 Structure"
   ]
  },
  {
   "cell_type": "code",
   "execution_count": null,
   "metadata": {},
   "outputs": [],
   "source": [
    "class TreeNode<T> {\n",
    "    T value;\n",
    "    TreeNode left;\n",
    "    TreeNode right;\n",
    "\n",
    "    public TreeNode(T x) {\n",
    "        this.value = x;\n",
    "        this.left = null;\n",
    "        this.right = null;\n",
    "    }\n",
    "}"
   ]
  },
  {
   "cell_type": "markdown",
   "metadata": {},
   "source": [
    "##### 2.2 Find"
   ]
  },
  {
   "cell_type": "code",
   "execution_count": null,
   "metadata": {},
   "outputs": [],
   "source": [
    "private void preorderTraversal(TreeNode root) {\n",
    "    if (root != null) {\n",
    "        System.out.println(root.value);\n",
    "        preorderTraversal(root.left);\n",
    "        preorderTraversal(root.right);\n",
    "    }\n",
    "}"
   ]
  },
  {
   "cell_type": "markdown",
   "metadata": {},
   "source": [
    "##### 2.3 Insert"
   ]
  },
  {
   "cell_type": "code",
   "execution_count": null,
   "metadata": {},
   "outputs": [],
   "source": []
  },
  {
   "cell_type": "markdown",
   "metadata": {},
   "source": [
    "##### 2.4 Remove"
   ]
  },
  {
   "cell_type": "code",
   "execution_count": null,
   "metadata": {},
   "outputs": [],
   "source": []
  },
  {
   "cell_type": "markdown",
   "metadata": {},
   "source": [
    "# 2. Binary Search Tree"
   ]
  },
  {
   "cell_type": "markdown",
   "metadata": {},
   "source": [
    "##### 2.1 Structure"
   ]
  },
  {
   "cell_type": "code",
   "execution_count": null,
   "metadata": {},
   "outputs": [],
   "source": [
    "class BSTNode<T> {\n",
    "    T value;\n",
    "    BSTNode<T> left;\n",
    "    BSTNode<T> right;\n",
    "\n",
    "    public BSTNode(T x) {\n",
    "        this.value = x;\n",
    "        this.left = null;\n",
    "        this.right = null;\n",
    "    }\n",
    "}"
   ]
  },
  {
   "cell_type": "markdown",
   "metadata": {},
   "source": [
    "##### 2.2 Find"
   ]
  },
  {
   "cell_type": "code",
   "execution_count": null,
   "metadata": {},
   "outputs": [],
   "source": [
    "private boolean find(BSTNode<T> root, T x) {\n",
    "    if (root == null) {\n",
    "        return false;\n",
    "    }\n",
    "    if (x == root.value) {\n",
    "        return true;\n",
    "    }\n",
    "    if (x < root.value) {\n",
    "        return find(root.left, x);\n",
    "    } else {\n",
    "        return find(root.right, x);\n",
    "    }\n",
    "}"
   ]
  },
  {
   "cell_type": "markdown",
   "metadata": {},
   "source": [
    "##### 2.3 Insert"
   ]
  },
  {
   "cell_type": "code",
   "execution_count": null,
   "metadata": {},
   "outputs": [],
   "source": [
    "private BSTNode<T> insert(BSTNode<T> node, T x) {\n",
    "    if (node == null) {\n",
    "        return new BSTNode<>(x);\n",
    "    }\n",
    "    if (x < node.value) {\n",
    "        node.left = insert(node.left, x);\n",
    "    } else {\n",
    "        node.right = insert(node.right, x);\n",
    "    }\n",
    "    return node;\n",
    "}"
   ]
  },
  {
   "cell_type": "markdown",
   "metadata": {},
   "source": [
    "##### 2.4 Remove"
   ]
  },
  {
   "cell_type": "code",
   "execution_count": null,
   "metadata": {},
   "outputs": [],
   "source": [
    "private BSTNode<T> delete(BSTNode<T> node, T x) {\n",
    "    if (node == null) {\n",
    "        return null;\n",
    "    }\n",
    "    if (x < node.value) {\n",
    "        node.left = delete(node.left, x);\n",
    "    } else if (x > node.value) {\n",
    "        node.right = delete(node.right, x);\n",
    "    } else {\n",
    "        if (node.left == null) {\n",
    "            return node.right;\n",
    "        } else if (node.right == null) {\n",
    "            return node.left;\n",
    "        }\n",
    "        node.value = findMin(node.right);\n",
    "        node.right = delete(node.right, node.value);\n",
    "    }\n",
    "    return node;\n",
    "}"
   ]
  },
  {
   "cell_type": "markdown",
   "metadata": {},
   "source": [
    "# 3. AVL Tree"
   ]
  },
  {
   "cell_type": "markdown",
   "metadata": {},
   "source": [
    "##### 1.1 Structure"
   ]
  },
  {
   "cell_type": "code",
   "execution_count": null,
   "metadata": {},
   "outputs": [],
   "source": [
    "class AVLNode<T> {\n",
    "    T value;\n",
    "    TreeNode left;\n",
    "    TreeNode right;\n",
    "    int height;\n",
    "\n",
    "    public AVLNode(T x) {\n",
    "        this.value = x;\n",
    "        this.left = null;\n",
    "        this.right = null;\n",
    "        this.height = 1;\n",
    "    }\n",
    "}"
   ]
  },
  {
   "cell_type": "markdown",
   "metadata": {},
   "source": [
    "##### 1.2 Preorder Traversal"
   ]
  },
  {
   "cell_type": "code",
   "execution_count": null,
   "metadata": {},
   "outputs": [],
   "source": [
    "private AVLNode<T> insert(AVLNode<T> root, T x) {\n",
    "    if (root == null) {\n",
    "        return new AVLNode<T>(x);\n",
    "    }\n",
    "    if (x < root.value) {\n",
    "        root.left = insert(root.left, x);\n",
    "    } else {\n",
    "        root.right = insert(root.right, x);\n",
    "    }\n",
    "    updateHeight(root);\n",
    "    root = balance(root);\n",
    "    return root;\n",
    "}"
   ]
  },
  {
   "cell_type": "markdown",
   "metadata": {},
   "source": [
    "##### 1.3 Inorder Traversal"
   ]
  },
  {
   "cell_type": "code",
   "execution_count": null,
   "metadata": {},
   "outputs": [],
   "source": [
    "public AVLNode<T> delete(AVLNode<T> root, T x) {\n",
    "    if (root == null) {\n",
    "        return null;\n",
    "    }\n",
    "    if (x < root.value) {\n",
    "        root.left = delete(root.left, x);\n",
    "    } else if (x > root.value) {\n",
    "        root.right = delete(root.right, x);\n",
    "    } else {\n",
    "        if (root.left == null) {\n",
    "            return root.right;\n",
    "        } else if (root.right == null) {\n",
    "            return root.left;\n",
    "        }\n",
    "        root.value = findMin(root.right);\n",
    "        root.right = delete(root.right, root.value);\n",
    "    }\n",
    "    updateHeight(root);\n",
    "    root = balance(root);\n",
    "    return root;\n",
    "}"
   ]
  },
  {
   "cell_type": "markdown",
   "metadata": {},
   "source": [
    "##### 1.4 Postorder Traversal"
   ]
  },
  {
   "cell_type": "code",
   "execution_count": null,
   "metadata": {},
   "outputs": [],
   "source": [
    "private AVLNode<T> leftRotate(AVLNode<T> node) {\n",
    "    AVLNode<T> newNode = node.right;\n",
    "    node.right = newNode.left;\n",
    "    newNode.left = node;\n",
    "    updateHeight(node);\n",
    "    updateHeight(newNode);\n",
    "    return newNode;\n",
    "}"
   ]
  },
  {
   "cell_type": "markdown",
   "metadata": {},
   "source": [
    "##### 1.5 Level order Traversal"
   ]
  },
  {
   "cell_type": "code",
   "execution_count": null,
   "metadata": {},
   "outputs": [],
   "source": [
    "private AVLNode<T> balance(AVLNode<T> node) {\n",
    "    int balanceFactor = getBalanceFactor(node);\n",
    "    if (balanceFactor == 2) {\n",
    "        if (getBalanceFactor(node.left) == 1) {\n",
    "            return rightRotate(node);\n",
    "        } else if (getBalanceFactor(node.left) == -1) {\n",
    "            node.left = leftRotate(node.left);\n",
    "            return rightRotate(node);\n",
    "        }\n",
    "    }\n",
    "    if (balanceFactor == -2) {\n",
    "        if (getBalanceFactor(node.right) == -1) {\n",
    "            return leftRotate(node);\n",
    "        } else if (getBalanceFactor(node.right) == 1) {\n",
    "            node.right = rightRotate(node.right);\n",
    "            return leftRotate(node);\n",
    "        }\n",
    "    }\n",
    "    return node;\n",
    "}"
   ]
  },
  {
   "cell_type": "markdown",
   "metadata": {},
   "source": [
    "# 4. Heap"
   ]
  },
  {
   "cell_type": "markdown",
   "metadata": {},
   "source": [
    "##### 4.1 Structure"
   ]
  },
  {
   "cell_type": "code",
   "execution_count": null,
   "metadata": {},
   "outputs": [],
   "source": [
    "class MaxHeap<T> {\n",
    "    private T[] data;\n",
    "    private int size;\n",
    "\n",
    "    public MaxHeap(int capacity) {\n",
    "        this.data = (T[]) new Object[capacity + 1];\n",
    "        this.data[0] = null;\n",
    "        this.size = 0;\n",
    "    }\n",
    "}"
   ]
  },
  {
   "cell_type": "markdown",
   "metadata": {},
   "source": [
    "##### 4.2 Insert"
   ]
  },
  {
   "cell_type": "code",
   "execution_count": null,
   "metadata": {},
   "outputs": [],
   "source": [
    "public void push(int x) {\n",
    "    int i = ++this.size;\n",
    "    for(; i > 0 && this.data[i / 2] < x; i /= 2) {\n",
    "        this.data[i] = this.data[i / 2];\n",
    "    }\n",
    "    this.data[i] = x;\n",
    "}"
   ]
  },
  {
   "cell_type": "markdown",
   "metadata": {},
   "source": [
    "##### 4.3 Delete"
   ]
  },
  {
   "cell_type": "code",
   "execution_count": null,
   "metadata": {},
   "outputs": [],
   "source": [
    "public T pop() {\n",
    "    T max = this.data[1];\n",
    "    T tmp = this.data[this.size--];\n",
    "    int parent;\n",
    "    int child;\n",
    "    for (parent = 1; parent * 2 <= this.size; parent = child) {\n",
    "        child = parent * 2;\n",
    "        if (child != this.size && this.data[child] < this.data[child + 1]) {\n",
    "            child++;\n",
    "        }\n",
    "        if (tmp >= this.data[child]) {\n",
    "            break;\n",
    "        } else {\n",
    "            this.data[parent] = this.data[child];\n",
    "        }\n",
    "    }\n",
    "    this.data[parent] = tmp;\n",
    "    return max;\n",
    "}"
   ]
  }
 ],
 "metadata": {
  "kernelspec": {
   "display_name": "Java",
   "language": "java",
   "name": "java"
  },
  "language_info": {
   "codemirror_mode": "java",
   "file_extension": ".jshell",
   "mimetype": "text/x-java-source",
   "name": "Java",
   "pygments_lexer": "java",
   "version": "21.0.4+8-LTS-274"
  }
 },
 "nbformat": 4,
 "nbformat_minor": 4
}
