{
 "cells": [
  {
   "cell_type": "markdown",
   "metadata": {},
   "source": [
    "# Task1\n",
    "Implement class of 7 dwarfs according to the following requirements:\n",
    "\n",
    "1. **Doc**: This dwarf has his own name, as well as a certain age and height. As a miner, he has the ability to dig, rest, eat, and sleep. Furthermore, he also displays some leadership skills, able to coordinate the work of the other dwarfs.\n",
    "\n",
    "2. **Grumpy**: This dwarf also has his own name, age, and height, and is a miner. He can perform basic activities like work, rest, eat, and sleep. However, he also exhibits a certain emotional state, able to express his emotions.\n",
    "\n",
    "3. **Happy**: This dwarf has similar attributes to the first two, also being a miner. He can perform the basic activities of work, rest, eat, and sleep. It's worth noting that he also exhibits a certain emotional trait, able to express his emotions.\n",
    "\n",
    "4. **Sleepy**: This dwarf has the common dwarf attributes of name, age, and height, and is a miner. He can engage in work, rest, and eating activities. Additionally, he exhibits a special physical condition, requiring extra sleep.\n",
    "\n",
    "5. **Sneezy**: This dwarf also has his own name, age, and height, and is a miner as well. He can perform the basic activities of digging, rest, and eating. However, he also exhibits a special physical condition, needing to prevent certain illnesses.\n",
    "\n",
    "6. **Dopey**: This dwarf has similar attributes to the other dwarfs, also being a miner. He can engage in work, rest, eat, and sleep activities. It's worth noting that he also exhibits a certain emotional trait, able to express his emotions.\n",
    "\n",
    "7. **Bashful**: This dwarf has his own name, age, and height, and is likewise a miner. He can perform the basic activities of work, rest, eat, and sleep. Additionally, he exhibits a certain emotional trait, able to express his emotions.\n",
    "\n",
    "**Commit to your own branch.**"
   ]
  },
  {
   "cell_type": "code",
   "execution_count": null,
   "metadata": {},
   "outputs": [],
   "source": []
  }
 ],
 "metadata": {
  "kernelspec": {
   "display_name": "Python 3 (ipykernel)",
   "language": "python",
   "name": "python3"
  },
  "language_info": {
   "codemirror_mode": {
    "name": "ipython",
    "version": 3
   },
   "file_extension": ".py",
   "mimetype": "text/x-python",
   "name": "python",
   "nbconvert_exporter": "python",
   "pygments_lexer": "ipython3",
   "version": "3.12.1"
  }
 },
 "nbformat": 4,
 "nbformat_minor": 4
}
