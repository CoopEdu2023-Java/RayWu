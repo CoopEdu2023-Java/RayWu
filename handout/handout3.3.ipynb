{
 "cells": [
  {
   "cell_type": "markdown",
   "metadata": {},
   "source": [
    "# Hash"
   ]
  },
  {
   "cell_type": "markdown",
   "metadata": {},
   "source": [
    "##### 1. Structure"
   ]
  },
  {
   "cell_type": "code",
   "execution_count": null,
   "metadata": {},
   "outputs": [],
   "source": [
    "public class HashTable<T1, T2> {\n",
    "    private int size = 10;\n",
    "    private Entry<T1, T2>[] table;\n",
    "\n",
    "    private static class Entry<K, V> {\n",
    "        K key;\n",
    "        V value;\n",
    "        int state;\n",
    "    }\n",
    "\n",
    "    public HashTable() {\n",
    "        this.table = new Entry[this.size];\n",
    "    }\n",
    "}"
   ]
  },
  {
   "cell_type": "markdown",
   "metadata": {},
   "source": [
    "##### 2. Hash"
   ]
  },
  {
   "cell_type": "code",
   "execution_count": null,
   "metadata": {},
   "outputs": [],
   "source": [
    "private int hash(int key) {\n",
    "    return key % this.size;\n",
    "}\n",
    "private int hash(T1 key) {\n",
    "    int index = 0;\n",
    "    for (int i = 0; i < String.valueOf(key).length(); i++) {\n",
    "        index = (index * 37 + String.valueOf(key).charAt(i)) % this.size;\n",
    "    }\n",
    "    return index;\n",
    "}"
   ]
  },
  {
   "cell_type": "markdown",
   "metadata": {},
   "source": [
    "##### 3. Find"
   ]
  },
  {
   "cell_type": "code",
   "execution_count": null,
   "metadata": {},
   "outputs": [],
   "source": [
    "// Linear probing\n",
    "private index find(T1 key) {\n",
    "    int index = hash(key);\n",
    "    while (this.table[index] != null && this.table[index].state != 0 && this.table[index].key != key) {\n",
    "        index = (index + 1) % this.size;\n",
    "    }\n",
    "    return index;\n",
    "}\n",
    "// Quadratic probing\n",
    "private int find(T1 key) {\n",
    "    int index = hash(key);\n",
    "    int i = 0;\n",
    "    while (this.table[index] != null && this.table[index].state != 0 && !this.table[index].key != key) {\n",
    "        index = (index + i * i) % this.size;\n",
    "        i++;\n",
    "    }\n",
    "    return index;\n",
    "}"
   ]
  },
  {
   "cell_type": "markdown",
   "metadata": {},
   "source": [
    "##### 4. Insert"
   ]
  },
  {
   "cell_type": "code",
   "execution_count": null,
   "metadata": {},
   "outputs": [],
   "source": [
    "public void insert(T1 key, T2 value) {\n",
    "    int index = find(key);\n",
    "    if (this.table[index].state == 0) {\n",
    "      this.table[index].key = key;\n",
    "      this.table[index].value = value;\n",
    "    }\n",
    "}"
   ]
  },
  {
   "cell_type": "markdown",
   "metadata": {},
   "source": [
    "##### 5. Delete"
   ]
  },
  {
   "cell_type": "code",
   "execution_count": null,
   "metadata": {},
   "outputs": [],
   "source": [
    "public void delete(T1 key) {\n",
    "    int index = find(key);\n",
    "    if (this.table[index].state != 0) {\n",
    "        this.table[index].state = 0;\n",
    "    }\n",
    "}"
   ]
  }
 ],
 "metadata": {
  "kernelspec": {
   "display_name": "Java",
   "language": "java",
   "name": "java"
  },
  "language_info": {
   "codemirror_mode": "java",
   "file_extension": ".jshell",
   "mimetype": "text/x-java-source",
   "name": "Java",
   "pygments_lexer": "java",
   "version": "21.0.4+8-LTS-274"
  }
 },
 "nbformat": 4,
 "nbformat_minor": 4
}
