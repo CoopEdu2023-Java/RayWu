{
 "cells": [
  {
   "cell_type": "markdown",
   "metadata": {},
   "source": [
    "# 0. Basic"
   ]
  },
  {
   "cell_type": "markdown",
   "metadata": {},
   "source": [
    "##### 0.1 Write an example of passing a value and passing a reference"
   ]
  },
  {
   "cell_type": "code",
   "execution_count": null,
   "metadata": {
    "vscode": {
     "languageId": "java"
    }
   },
   "outputs": [],
   "source": [
    "int x = 1;\n",
    "void func(int x) {\n",
    "    x = 2;\n",
    "}\n",
    "func(x);\n",
    "System.out.println(x);\n",
    "class A {\n",
    "    public int x = 1;\n",
    "}\n",
    "\n",
    "void func(A a) {\n",
    "    a.x = 2;\n",
    "}\n",
    "\n",
    "A a = new A();\n",
    "func(a);\n",
    "System.out.println(a.x);\n",
    "\n"
   ]
  },
  {
   "cell_type": "markdown",
   "metadata": {},
   "source": [
    "# 1. Encapsulation"
   ]
  },
  {
   "cell_type": "markdown",
   "metadata": {},
   "source": [
    "##### 1.1 Define a class with:\n",
    "- Public field\n",
    "- Private field\n",
    "- Static field\n",
    "- No-argument constructor\n",
    "- All-argument constructor"
   ]
  },
  {
   "cell_type": "code",
   "execution_count": 1,
   "metadata": {
    "vscode": {
     "languageId": "java"
    }
   },
   "outputs": [],
   "source": [
    "class Demo {\n",
    "    public int x = 1;\n",
    "    private int y = 2;\n",
    "    static public int z = 3;\n",
    "\n",
    "    public Demo() {\n",
    "        System.out.println(\"Demo\");\n",
    "    }\n",
    "\n",
    "    public Demo(int x, int y, int z) {\n",
    "        this.x = x;\n",
    "        this.y = y;\n",
    "        this.z = z;\n",
    "    }\n",
    "}\n"
   ]
  },
  {
   "cell_type": "markdown",
   "metadata": {},
   "source": [
    "##### 1.2 Overload a method in class."
   ]
  },
  {
   "cell_type": "code",
   "execution_count": null,
   "metadata": {
    "vscode": {
     "languageId": "java"
    }
   },
   "outputs": [],
   "source": [
    "class Demo {\n",
    "    public static void func() {\n",
    "        System.out.println(1);\n",
    "    }\n",
    "\n",
    "    public static void func(int x) {\n",
    "        System.out.println(x);\n",
    "    }\n",
    "\n",
    "    public static void main(String[] args) {\n",
    "        func();\n",
    "        func(2);\n",
    "    }\n",
    "}\n"
   ]
  },
  {
   "cell_type": "markdown",
   "metadata": {},
   "source": [
    "##### 1.3 Create a Java bean."
   ]
  },
  {
   "cell_type": "code",
   "execution_count": null,
   "metadata": {
    "vscode": {
     "languageId": "java"
    }
   },
   "outputs": [],
   "source": [
    "public class Demo {\n",
    "    private int x;\n",
    "\n",
    "    public int getX() {\n",
    "        return x;\n",
    "    }\n",
    "\n",
    "    public void setX(int x) {\n",
    "        this.x = x;\n",
    "    }\n",
    "}\n"
   ]
  },
  {
   "cell_type": "markdown",
   "metadata": {},
   "source": [
    "# 2. Inheritance"
   ]
  },
  {
   "cell_type": "markdown",
   "metadata": {},
   "source": [
    "##### 2.1 Write a pair of parent class and child class."
   ]
  },
  {
   "cell_type": "code",
   "execution_count": null,
   "metadata": {
    "vscode": {
     "languageId": "java"
    }
   },
   "outputs": [],
   "source": [
    "class A {}\n",
    "class B extends A {}\n"
   ]
  },
  {
   "cell_type": "markdown",
   "metadata": {},
   "source": [
    "##### 2.2 Overwrite the parent class method in the child class."
   ]
  },
  {
   "cell_type": "code",
   "execution_count": null,
   "metadata": {
    "vscode": {
     "languageId": "java"
    }
   },
   "outputs": [],
   "source": [
    "class A {\n",
    "    public void func() {\n",
    "        System.out.println(1);\n",
    "    }\n",
    "}\n",
    "\n",
    "class B extends A {\n",
    "    @Override\n",
    "    public void func() {\n",
    "        System.out.println(2);\n",
    "    }\n",
    "}\n"
   ]
  },
  {
   "cell_type": "markdown",
   "metadata": {},
   "source": [
    "# 3. Polymorphism"
   ]
  },
  {
   "cell_type": "code",
   "execution_count": null,
   "metadata": {
    "vscode": {
     "languageId": "java"
    }
   },
   "outputs": [],
   "source": [
    "public class Demo {\n",
    "    public static void main(String[] args) {\n",
    "        Animal animal1 = new Animal();\n",
    "        Animal animal2 = new Cat();\n",
    "        Animal animal3 = new Dog();\n",
    "\n",
    "        animal1.sound();\n",
    "        animal2.sound();\n",
    "        animal3.sound();\n",
    "    }\n",
    "}\n",
    "\n",
    "class Animal {\n",
    "    void sound() {\n",
    "        System.out.println(\"Animal\");\n",
    "    }\n",
    "}\n",
    "\n",
    "class Cat extends Animal {\n",
    "    void sound() {\n",
    "        System.out.println(\"Cat\");\n",
    "    }\n",
    "}\n",
    "\n",
    "class Dog extends Animal {\n",
    "    void sound() {\n",
    "        System.out.println(\"Dog\");\n",
    "    }\n",
    "}\n"
   ]
  }
 ],
 "metadata": {
  "kernelspec": {
   "display_name": "Java",
   "language": "java",
   "name": "java"
  },
  "language_info": {
   "codemirror_mode": "java",
   "file_extension": ".jshell",
   "mimetype": "text/x-java-source",
   "name": "Java",
   "pygments_lexer": "java",
   "version": "21.0.4+8-LTS-274"
  }
 },
 "nbformat": 4,
 "nbformat_minor": 4
}
